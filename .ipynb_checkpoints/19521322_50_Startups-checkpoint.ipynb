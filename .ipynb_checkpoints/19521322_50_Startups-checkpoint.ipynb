{
 "cells": [
  {
   "cell_type": "markdown",
   "id": "0fc015e4-6709-40e2-9f94-b882a420c88c",
   "metadata": {},
   "source": [
    "### Tên : Huỳnh Ngọc Công Danh\n",
    "### MSSV : 19521322"
   ]
  },
  {
   "cell_type": "code",
   "execution_count": 1,
   "id": "55fec8b0-60e7-49dc-8fd2-4371d4311294",
   "metadata": {},
   "outputs": [
    {
     "data": {
      "text/html": [
       "<div>\n",
       "<style scoped>\n",
       "    .dataframe tbody tr th:only-of-type {\n",
       "        vertical-align: middle;\n",
       "    }\n",
       "\n",
       "    .dataframe tbody tr th {\n",
       "        vertical-align: top;\n",
       "    }\n",
       "\n",
       "    .dataframe thead th {\n",
       "        text-align: right;\n",
       "    }\n",
       "</style>\n",
       "<table border=\"1\" class=\"dataframe\">\n",
       "  <thead>\n",
       "    <tr style=\"text-align: right;\">\n",
       "      <th></th>\n",
       "      <th>R&amp;D Spend</th>\n",
       "      <th>Administration</th>\n",
       "      <th>Marketing Spend</th>\n",
       "      <th>State</th>\n",
       "      <th>Profit</th>\n",
       "    </tr>\n",
       "  </thead>\n",
       "  <tbody>\n",
       "    <tr>\n",
       "      <th>0</th>\n",
       "      <td>165349.2</td>\n",
       "      <td>136897.8</td>\n",
       "      <td>471784.1</td>\n",
       "      <td>New York</td>\n",
       "      <td>192261.83</td>\n",
       "    </tr>\n",
       "  </tbody>\n",
       "</table>\n",
       "</div>"
      ],
      "text/plain": [
       "   R&D Spend  Administration  Marketing Spend     State     Profit\n",
       "0   165349.2        136897.8         471784.1  New York  192261.83"
      ]
     },
     "execution_count": 1,
     "metadata": {},
     "output_type": "execute_result"
    }
   ],
   "source": [
    "import pandas as pd\n",
    "import numpy as np\n",
    "from sklearn.compose import ColumnTransformer \n",
    "from sklearn.preprocessing import StandardScaler,OneHotEncoder,MinMaxScaler,LabelEncoder\n",
    "df = pd.read_csv(\"50_Startups.csv\")\n",
    "df = df.dropna()\n",
    "df.head(1)"
   ]
  },
  {
   "cell_type": "markdown",
   "id": "5e4e38cb-a2f7-4de1-bd08-026a94eb74a9",
   "metadata": {},
   "source": [
    "### Xử lý dữ liệu"
   ]
  },
  {
   "cell_type": "code",
   "execution_count": 2,
   "id": "bd310d16-d192-4ede-ba87-6a9caa4fb247",
   "metadata": {},
   "outputs": [],
   "source": [
    "X = np.array(df.iloc[:,:-1])\n",
    "y = np.array(df.iloc[:, -1])\n",
    "columnTransformer = ColumnTransformer([('encoder', OneHotEncoder(), [3])], remainder='passthrough') \n",
    "X = columnTransformer.fit_transform(X) \n",
    "scaler = StandardScaler()\n",
    "X_scaled = scaler.fit_transform(X)"
   ]
  },
  {
   "cell_type": "code",
   "execution_count": 3,
   "id": "e01c16da-fcee-4ff1-b76a-3bdb32b490ac",
   "metadata": {},
   "outputs": [],
   "source": [
    "from sklearn.model_selection import KFold \n",
    "from sklearn.metrics import r2_score\n",
    "\n",
    "def Score(model,X,y):\n",
    "  acc_score = [] \n",
    "  k = 5\n",
    "  kf = KFold(n_splits=k,shuffle=True)\n",
    "  lab_enc = LabelEncoder()\n",
    "  for train_index , test_index in kf.split(X):\n",
    "    X_train , X_test = X[train_index],X[test_index]\n",
    "    y_train , y_test = np.round(y[train_index]) , np.round(y[test_index])\n",
    "#     training_scores_encoded = lab_enc.fit_transform(y_train)\n",
    "    model.fit(X_train,y_train )\n",
    "    pred_values = model.predict(X_test)\n",
    "    acc = r2_score(pred_values , y_test)\n",
    "    acc_score.append(acc)\n",
    "  return sum(acc_score)/len(acc_score)\n",
    "  # Linear Regression\n"
   ]
  },
  {
   "cell_type": "markdown",
   "id": "968da778-3a98-4da4-b301-668b90c88c24",
   "metadata": {},
   "source": [
    "### Sử dụng hồi quy"
   ]
  },
  {
   "cell_type": "code",
   "execution_count": 4,
   "id": "f0101b34-0fef-4ecd-b8a6-5874c45e7989",
   "metadata": {},
   "outputs": [
    {
     "data": {
      "text/html": [
       "<div>\n",
       "<style scoped>\n",
       "    .dataframe tbody tr th:only-of-type {\n",
       "        vertical-align: middle;\n",
       "    }\n",
       "\n",
       "    .dataframe tbody tr th {\n",
       "        vertical-align: top;\n",
       "    }\n",
       "\n",
       "    .dataframe thead th {\n",
       "        text-align: right;\n",
       "    }\n",
       "</style>\n",
       "<table border=\"1\" class=\"dataframe\">\n",
       "  <thead>\n",
       "    <tr style=\"text-align: right;\">\n",
       "      <th></th>\n",
       "      <th>model</th>\n",
       "      <th>score</th>\n",
       "    </tr>\n",
       "  </thead>\n",
       "  <tbody>\n",
       "    <tr>\n",
       "      <th>0</th>\n",
       "      <td>Linear Regression</td>\n",
       "      <td>0.88448</td>\n",
       "    </tr>\n",
       "  </tbody>\n",
       "</table>\n",
       "</div>"
      ],
      "text/plain": [
       "               model    score\n",
       "0  Linear Regression  0.88448"
      ]
     },
     "execution_count": 4,
     "metadata": {},
     "output_type": "execute_result"
    }
   ],
   "source": [
    "from sklearn.linear_model import LinearRegression\n",
    "model_linear = LinearRegression()\n",
    "score_linear = Score(model_linear,X_scaled,y)\n",
    "# print(\"Score {}\".format(score_linear))\n",
    "score = pd.DataFrame([(\"Linear Regression\",score_linear)],columns=[\"model\",\"score\"])\n",
    "score\n",
    "# arr_score"
   ]
  },
  {
   "cell_type": "markdown",
   "id": "33dfea58-3aad-4058-8f7d-1ed6ca7d3756",
   "metadata": {},
   "source": [
    "### Sử dụng phân lớp"
   ]
  },
  {
   "cell_type": "code",
   "execution_count": 5,
   "id": "4393bfd9-51f8-4851-a5fc-57993142d44c",
   "metadata": {},
   "outputs": [
    {
     "data": {
      "text/html": [
       "<div>\n",
       "<style scoped>\n",
       "    .dataframe tbody tr th:only-of-type {\n",
       "        vertical-align: middle;\n",
       "    }\n",
       "\n",
       "    .dataframe tbody tr th {\n",
       "        vertical-align: top;\n",
       "    }\n",
       "\n",
       "    .dataframe thead th {\n",
       "        text-align: right;\n",
       "    }\n",
       "</style>\n",
       "<table border=\"1\" class=\"dataframe\">\n",
       "  <thead>\n",
       "    <tr style=\"text-align: right;\">\n",
       "      <th></th>\n",
       "      <th>model</th>\n",
       "      <th>score</th>\n",
       "    </tr>\n",
       "  </thead>\n",
       "  <tbody>\n",
       "    <tr>\n",
       "      <th>0</th>\n",
       "      <td>Logis</td>\n",
       "      <td>-0.083132</td>\n",
       "    </tr>\n",
       "    <tr>\n",
       "      <th>1</th>\n",
       "      <td>SVM</td>\n",
       "      <td>0.478452</td>\n",
       "    </tr>\n",
       "    <tr>\n",
       "      <th>2</th>\n",
       "      <td>Decision</td>\n",
       "      <td>-0.682079</td>\n",
       "    </tr>\n",
       "    <tr>\n",
       "      <th>3</th>\n",
       "      <td>Naive</td>\n",
       "      <td>0.362363</td>\n",
       "    </tr>\n",
       "    <tr>\n",
       "      <th>4</th>\n",
       "      <td>KNN</td>\n",
       "      <td>-0.548532</td>\n",
       "    </tr>\n",
       "    <tr>\n",
       "      <th>5</th>\n",
       "      <td>Random</td>\n",
       "      <td>0.541008</td>\n",
       "    </tr>\n",
       "  </tbody>\n",
       "</table>\n",
       "</div>"
      ],
      "text/plain": [
       "      model     score\n",
       "0     Logis -0.083132\n",
       "1       SVM  0.478452\n",
       "2  Decision -0.682079\n",
       "3     Naive  0.362363\n",
       "4       KNN -0.548532\n",
       "5    Random  0.541008"
      ]
     },
     "execution_count": 5,
     "metadata": {},
     "output_type": "execute_result"
    }
   ],
   "source": [
    "\n",
    "# Logistic\n",
    "from sklearn.linear_model import LogisticRegression\n",
    "model_logic = LogisticRegression()\n",
    "# SVM\n",
    "from sklearn import svm\n",
    "model_svm = svm.SVC()\n",
    "# Decision Tree\n",
    "from sklearn import tree\n",
    "model_tree  = tree.DecisionTreeClassifier()\n",
    "# KNN\n",
    "from sklearn.neighbors import KNeighborsClassifier\n",
    "model_neigh = KNeighborsClassifier(n_neighbors=3)\n",
    "# Naive\n",
    "from sklearn.naive_bayes import GaussianNB\n",
    "model_naive = GaussianNB()\n",
    "# Random\n",
    "from sklearn.ensemble import RandomForestClassifier\n",
    "model_random = RandomForestClassifier(max_depth=2, random_state=0)\n",
    "\n",
    "Logis_score = Score(model_logic,X_scaled,y)\n",
    "SVM_score = Score(model_svm,X_scaled,y)\n",
    "Decision_score = Score(model_tree,X_scaled,y)\n",
    "Naive_score = Score(model_naive,X_scaled,y)\n",
    "KNN_score = Score(model_neigh,X_scaled,y)\n",
    "Random_score = Score(model_random,X_scaled,y)\n",
    "model_score = [\n",
    "    (\"Logis\",Logis_score),\n",
    "    (\"SVM\",SVM_score),\n",
    "    (\"Decision\",Decision_score),\n",
    "    (\"Naive\",Naive_score),\n",
    "    (\"KNN\",KNN_score),\n",
    "    (\"Random\",Random_score)\n",
    "]\n",
    "score = pd.DataFrame(model_score,columns=[\"model\",\"score\"])\n",
    "score"
   ]
  }
 ],
 "metadata": {
  "kernelspec": {
   "display_name": "Python 3",
   "language": "python",
   "name": "python3"
  },
  "language_info": {
   "codemirror_mode": {
    "name": "ipython",
    "version": 3
   },
   "file_extension": ".py",
   "mimetype": "text/x-python",
   "name": "python",
   "nbconvert_exporter": "python",
   "pygments_lexer": "ipython3",
   "version": "3.8.8"
  }
 },
 "nbformat": 4,
 "nbformat_minor": 5
}
