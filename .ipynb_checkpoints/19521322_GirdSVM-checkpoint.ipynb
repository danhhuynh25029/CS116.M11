{
 "cells": [
  {
   "cell_type": "markdown",
   "id": "658a0b6f",
   "metadata": {},
   "source": [
    "### Tên : Huỳnh Ngọc Công Danh\n",
    "### MSSV : 19521322"
   ]
  },
  {
   "cell_type": "code",
   "execution_count": 15,
   "id": "ad97e90d",
   "metadata": {},
   "outputs": [],
   "source": [
    "import pandas as pd\n",
    "import numpy as np\n",
    "from sklearn.preprocessing import StandardScaler\n",
    "from sklearn.svm import SVC\n",
    "from sklearn.model_selection import KFold\n",
    "from sklearn.model_selection import train_test_split"
   ]
  },
  {
   "cell_type": "code",
   "execution_count": 45,
   "id": "1a5a7756",
   "metadata": {},
   "outputs": [
    {
     "data": {
      "text/html": [
       "<div>\n",
       "<style scoped>\n",
       "    .dataframe tbody tr th:only-of-type {\n",
       "        vertical-align: middle;\n",
       "    }\n",
       "\n",
       "    .dataframe tbody tr th {\n",
       "        vertical-align: top;\n",
       "    }\n",
       "\n",
       "    .dataframe thead th {\n",
       "        text-align: right;\n",
       "    }\n",
       "</style>\n",
       "<table border=\"1\" class=\"dataframe\">\n",
       "  <thead>\n",
       "    <tr style=\"text-align: right;\">\n",
       "      <th></th>\n",
       "      <th>Age</th>\n",
       "      <th>EstimatedSalary</th>\n",
       "      <th>Purchased</th>\n",
       "    </tr>\n",
       "  </thead>\n",
       "  <tbody>\n",
       "    <tr>\n",
       "      <th>0</th>\n",
       "      <td>19</td>\n",
       "      <td>19000</td>\n",
       "      <td>0</td>\n",
       "    </tr>\n",
       "  </tbody>\n",
       "</table>\n",
       "</div>"
      ],
      "text/plain": [
       "   Age  EstimatedSalary  Purchased\n",
       "0   19            19000          0"
      ]
     },
     "execution_count": 45,
     "metadata": {},
     "output_type": "execute_result"
    }
   ],
   "source": [
    "df = pd.read_csv('Social_Network_Ads.csv')\n",
    "df.head(1)"
   ]
  },
  {
   "cell_type": "code",
   "execution_count": 53,
   "id": "8085ae3a",
   "metadata": {},
   "outputs": [],
   "source": [
    "X = np.array(df.drop(['Purchased'], axis=1))\n",
    "y = np.array(df['Purchased'])\n",
    "X, X_test, y, y_test = train_test_split( X, y, test_size = 0.2)"
   ]
  },
  {
   "cell_type": "code",
   "execution_count": 57,
   "id": "a25144a3",
   "metadata": {},
   "outputs": [
    {
     "name": "stdout",
     "output_type": "stream",
     "text": [
      "[0.1, 1, 10, 100]\n"
     ]
    }
   ],
   "source": [
    "C = [0.1,1,10,100]\n",
    "kernel = [ 'linear','poly', 'rbf', 'sigmoid', 'precomputed']\n",
    "gamma =  [1,0.1,0.01,0.001]\n",
    "shrinking = [True, False]\n",
    "print(C)"
   ]
  },
  {
   "cell_type": "code",
   "execution_count": 71,
   "id": "b3d68dcf",
   "metadata": {},
   "outputs": [
    {
     "name": "stdout",
     "output_type": "stream",
     "text": [
      "[0.233865, 1, 'rbf', 0.1, True]\n"
     ]
    }
   ],
   "source": [
    "kf = KFold(n_splits = 5)\n",
    "max_acc = 0\n",
    "result = []\n",
    "scaler = StandardScaler()\n",
    "for c in C:\n",
    "  for k in kernel:\n",
    "    for g in gamma:\n",
    "      for s in shrinking:\n",
    "        acc = 0\n",
    "        model = SVC(C = c, kernel = k, gamma = g, shrinking = s)\n",
    "        for train_index,val_index in kf.split(X):    \n",
    "            X_train, y_train = X[train_index], y[train_index]\n",
    "            X_val, y_val = X[val_index], y[val_index]\n",
    "            X_train = scaler.fit_transform(X_train)\n",
    "            X_val = scaler.fit_transform(X_val)\n",
    "            if kernel == 'precomputed':\n",
    "                X_train = np.dot(X_train,X_train.T)\n",
    "            model.fit(X_train, y_train)\n",
    "            scr =  model.score(X_val,y_val)\n",
    "            acc += scr\n",
    "            acc = acc / 5\n",
    "            if acc > max_acc:\n",
    "                max_acc = acc\n",
    "                result = [acc, c, k, g, s]           \n",
    "print(result)"
   ]
  },
  {
   "cell_type": "code",
   "execution_count": 72,
   "id": "b8e008ff",
   "metadata": {},
   "outputs": [
    {
     "name": "stdout",
     "output_type": "stream",
     "text": [
      "0.925\n"
     ]
    }
   ],
   "source": [
    "SVM_hype = SVC(C = result[1], kernel = result[2], gamma = result[3], shrinking =  result[4])\n",
    "\n",
    "scaler = StandardScaler()\n",
    "X_train_last = scaler.fit_transform(X) \n",
    "SVM_hype.fit(X_train_last, y)\n",
    "\n",
    "X_test_last = scaler.fit_transform(X_test)\n",
    "print(SVM_hype.score(X_test_last, y_test))"
   ]
  }
 ],
 "metadata": {
  "kernelspec": {
   "display_name": "Python 3",
   "language": "python",
   "name": "python3"
  },
  "language_info": {
   "codemirror_mode": {
    "name": "ipython",
    "version": 3
   },
   "file_extension": ".py",
   "mimetype": "text/x-python",
   "name": "python",
   "nbconvert_exporter": "python",
   "pygments_lexer": "ipython3",
   "version": "3.8.8"
  }
 },
 "nbformat": 4,
 "nbformat_minor": 5
}
