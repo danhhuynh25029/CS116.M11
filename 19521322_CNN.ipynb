{
  "nbformat": 4,
  "nbformat_minor": 0,
  "metadata": {
    "colab": {
      "name": "19521322_CNN.ipynb",
      "provenance": [],
      "collapsed_sections": []
    },
    "kernelspec": {
      "name": "python3",
      "display_name": "Python 3"
    },
    "language_info": {
      "name": "python"
    }
  },
  "cells": [
    {
      "cell_type": "markdown",
      "metadata": {
        "id": "u_Fc9IiTTDbE"
      },
      "source": [
        "### Tên : Huỳnh Ngọc Công Danh\n",
        "### MSSV : 19521322"
      ]
    },
    {
      "cell_type": "code",
      "metadata": {
        "id": "WtVAPHxWS_DI"
      },
      "source": [
        "from keras.layers import Conv2D,Input,Dense,MaxPool2D,Flatten,AveragePooling2D,Add\n",
        "from keras.models import load_model,Model\n",
        "class MyCNN:\n",
        "  def __init__(self):\n",
        "    self.model = None\n",
        "  def build(self,input_dim):\n",
        "    input = Input(shape=input_dim)\n",
        "    c1 = Conv2D(8,(3,3),padding='same',activation='relu')(input)\n",
        "    s2 = MaxPool2D(strides=(2,2),padding='same',pool_size=(2,2))(c1)\n",
        "\n",
        "    c3 = Conv2D(8,(3,3),padding='same',activation='relu')(s2)\n",
        "    c4 = Conv2D(8,(3,3),padding='same',activation='relu')(c3)\n",
        "    C_34 = Add()([c3, c4])\n",
        "    c5 = Conv2D(16,(3,3),padding='same',activation='relu',strides=(2,2))(C_34)\n",
        "    c6 = Conv2D(16,(3,3),padding='same',activation='relu')(c5)\n",
        "    c7 = Conv2D(16,(3,3),padding='same',activation='relu')(c6)\n",
        "    C_67 = Add()([c6,c7])\n",
        "    A8 = AveragePooling2D()(C_67)\n",
        "    flat_a8 = Flatten()(A8)\n",
        "    F9 = Dense(400,activation='sigmoid',use_bias=False)(flat_a8)\n",
        "    output = Dense(10,activation='softmax',use_bias=False)(F9)\n",
        "    \n",
        "    self.model = Model(input,output)\n",
        "    self.model.compile(optimizer='adam',loss='binary_crossentropy',metrics=['accuracy'])\n",
        "  def train(self, x_train, y_train):\n",
        "    self.model.fit(x_train, y_train, epochs = 50, batch_size = 128)\n",
        "  def save(self,model_file):\n",
        "    self.model.save(model_file)\n",
        "  def summary(self):\n",
        "    self.model.summary()\n",
        "  def load(self,model_file):\n",
        "    self.model = load_model(model_file)\n",
        "  def predict(self,x_test):\n",
        "    return self.model.predict(x_test)\n",
        "  def evaluate(self,x_test,y_test):\n",
        "    print(\"Evaluate on test data\")\n",
        "    _, acc = self.model.evaluate(x_test, y_test, batch_size=128)\n",
        "    print(\"accurac_score :\", acc)\n"
      ],
      "execution_count": null,
      "outputs": []
    },
    {
      "cell_type": "code",
      "metadata": {
        "colab": {
          "base_uri": "https://localhost:8080/"
        },
        "id": "8Mqh21lTaI19",
        "outputId": "a4896342-8e6d-49b7-a9a6-fcf0b05676c7"
      },
      "source": [
        "from keras.datasets import mnist\n",
        "\n",
        "(x_train, y_train), (x_test, y_test) = mnist.load_data()\n",
        "\n",
        "print(x_train.shape)\n",
        "print(y_train.shape)\n",
        "print(x_test.shape)\n",
        "print(y_test.shape)"
      ],
      "execution_count": 25,
      "outputs": [
        {
          "output_type": "stream",
          "name": "stdout",
          "text": [
            "(60000, 28, 28)\n",
            "(60000,)\n",
            "(10000, 28, 28)\n",
            "(10000,)\n"
          ]
        }
      ]
    },
    {
      "cell_type": "code",
      "metadata": {
        "id": "AFy_DJn7dP4v"
      },
      "source": [
        "# import numpy as np\n",
        "\n",
        "# def onehot(y):\n",
        "#   oh = np.zeros((y.shape[0], 10))\n",
        "#   for i in range(y.shape[0]):\n",
        "#     oh[i, int(y[i])]=1\n",
        "#   return oh\n",
        "# from sklearn import preprocessing\n",
        "from tensorflow.keras.utils import to_categorical\n",
        "import numpy as np\n",
        "y_train_onehot = to_categorical(y_train)\n",
        "y_test_onehot = to_categorical(y_test)\n",
        "# y_train_onehot = onehot(y_train)\n",
        "# y_train_onehot.shape\n",
        "\n",
        "# y_test_onehot = onehot(y_test)\n",
        "# y_test_onehot.shape"
      ],
      "execution_count": 26,
      "outputs": []
    },
    {
      "cell_type": "code",
      "metadata": {
        "colab": {
          "base_uri": "https://localhost:8080/"
        },
        "id": "3ITULonzkLa_",
        "outputId": "82e5c4a5-023b-424f-91c6-809887f05769"
      },
      "source": [
        "cnn = MyCNN()\n",
        "cnn.build((28, 28, 1))\n",
        "cnn.summary()\n",
        "# cnn.train(x_train, y_train_onehot)"
      ],
      "execution_count": 27,
      "outputs": [
        {
          "output_type": "stream",
          "name": "stdout",
          "text": [
            "Model: \"model_2\"\n",
            "__________________________________________________________________________________________________\n",
            "Layer (type)                    Output Shape         Param #     Connected to                     \n",
            "==================================================================================================\n",
            "input_3 (InputLayer)            [(None, 28, 28, 1)]  0                                            \n",
            "__________________________________________________________________________________________________\n",
            "conv2d_12 (Conv2D)              (None, 28, 28, 8)    80          input_3[0][0]                    \n",
            "__________________________________________________________________________________________________\n",
            "max_pooling2d_2 (MaxPooling2D)  (None, 14, 14, 8)    0           conv2d_12[0][0]                  \n",
            "__________________________________________________________________________________________________\n",
            "conv2d_13 (Conv2D)              (None, 14, 14, 8)    584         max_pooling2d_2[0][0]            \n",
            "__________________________________________________________________________________________________\n",
            "conv2d_14 (Conv2D)              (None, 14, 14, 8)    584         conv2d_13[0][0]                  \n",
            "__________________________________________________________________________________________________\n",
            "add_4 (Add)                     (None, 14, 14, 8)    0           conv2d_13[0][0]                  \n",
            "                                                                 conv2d_14[0][0]                  \n",
            "__________________________________________________________________________________________________\n",
            "conv2d_15 (Conv2D)              (None, 7, 7, 16)     1168        add_4[0][0]                      \n",
            "__________________________________________________________________________________________________\n",
            "conv2d_16 (Conv2D)              (None, 7, 7, 16)     2320        conv2d_15[0][0]                  \n",
            "__________________________________________________________________________________________________\n",
            "conv2d_17 (Conv2D)              (None, 7, 7, 16)     2320        conv2d_16[0][0]                  \n",
            "__________________________________________________________________________________________________\n",
            "add_5 (Add)                     (None, 7, 7, 16)     0           conv2d_16[0][0]                  \n",
            "                                                                 conv2d_17[0][0]                  \n",
            "__________________________________________________________________________________________________\n",
            "average_pooling2d_2 (AveragePoo (None, 3, 3, 16)     0           add_5[0][0]                      \n",
            "__________________________________________________________________________________________________\n",
            "flatten_2 (Flatten)             (None, 144)          0           average_pooling2d_2[0][0]        \n",
            "__________________________________________________________________________________________________\n",
            "dense_4 (Dense)                 (None, 400)          57600       flatten_2[0][0]                  \n",
            "__________________________________________________________________________________________________\n",
            "dense_5 (Dense)                 (None, 10)           4000        dense_4[0][0]                    \n",
            "==================================================================================================\n",
            "Total params: 68,656\n",
            "Trainable params: 68,656\n",
            "Non-trainable params: 0\n",
            "__________________________________________________________________________________________________\n"
          ]
        }
      ]
    },
    {
      "cell_type": "code",
      "metadata": {
        "colab": {
          "base_uri": "https://localhost:8080/"
        },
        "id": "_xZd43eVdDNl",
        "outputId": "a0ee99a8-bfec-4ea4-80ae-ddb2e7e6af51"
      },
      "source": [
        "cnn.train(x_train, y_train_onehot)"
      ],
      "execution_count": 28,
      "outputs": [
        {
          "output_type": "stream",
          "name": "stdout",
          "text": [
            "Epoch 1/50\n",
            "469/469 [==============================] - 39s 82ms/step - loss: 0.0824 - accuracy: 0.8879\n",
            "Epoch 2/50\n",
            "469/469 [==============================] - 40s 85ms/step - loss: 0.0169 - accuracy: 0.9765\n",
            "Epoch 3/50\n",
            "469/469 [==============================] - 40s 86ms/step - loss: 0.0121 - accuracy: 0.9830\n",
            "Epoch 4/50\n",
            "469/469 [==============================] - 41s 86ms/step - loss: 0.0097 - accuracy: 0.9859\n",
            "Epoch 5/50\n",
            "469/469 [==============================] - 40s 85ms/step - loss: 0.0083 - accuracy: 0.9882\n",
            "Epoch 6/50\n",
            "469/469 [==============================] - 40s 85ms/step - loss: 0.0074 - accuracy: 0.9894\n",
            "Epoch 7/50\n",
            "469/469 [==============================] - 40s 86ms/step - loss: 0.0065 - accuracy: 0.9905\n",
            "Epoch 8/50\n",
            "469/469 [==============================] - 40s 85ms/step - loss: 0.0061 - accuracy: 0.9912\n",
            "Epoch 9/50\n",
            "469/469 [==============================] - 40s 85ms/step - loss: 0.0056 - accuracy: 0.9920\n",
            "Epoch 10/50\n",
            "469/469 [==============================] - 40s 85ms/step - loss: 0.0054 - accuracy: 0.9922\n",
            "Epoch 11/50\n",
            "469/469 [==============================] - 40s 85ms/step - loss: 0.0051 - accuracy: 0.9926\n",
            "Epoch 12/50\n",
            "469/469 [==============================] - 38s 81ms/step - loss: 0.0046 - accuracy: 0.9934\n",
            "Epoch 13/50\n",
            "469/469 [==============================] - 36s 77ms/step - loss: 0.0047 - accuracy: 0.9927\n",
            "Epoch 14/50\n",
            "469/469 [==============================] - 36s 78ms/step - loss: 0.0043 - accuracy: 0.9944\n",
            "Epoch 15/50\n",
            "469/469 [==============================] - 36s 77ms/step - loss: 0.0041 - accuracy: 0.9941\n",
            "Epoch 16/50\n",
            "469/469 [==============================] - 36s 77ms/step - loss: 0.0039 - accuracy: 0.9944\n",
            "Epoch 17/50\n",
            "469/469 [==============================] - 36s 77ms/step - loss: 0.0038 - accuracy: 0.9949\n",
            "Epoch 18/50\n",
            "469/469 [==============================] - 36s 78ms/step - loss: 0.0036 - accuracy: 0.9948\n",
            "Epoch 19/50\n",
            "469/469 [==============================] - 36s 78ms/step - loss: 0.0036 - accuracy: 0.9948\n",
            "Epoch 20/50\n",
            "469/469 [==============================] - 36s 78ms/step - loss: 0.0035 - accuracy: 0.9954\n",
            "Epoch 21/50\n",
            "469/469 [==============================] - 37s 78ms/step - loss: 0.0034 - accuracy: 0.9955\n",
            "Epoch 22/50\n",
            "469/469 [==============================] - 37s 78ms/step - loss: 0.0035 - accuracy: 0.9951\n",
            "Epoch 23/50\n",
            "469/469 [==============================] - 37s 78ms/step - loss: 0.0032 - accuracy: 0.9955\n",
            "Epoch 24/50\n",
            "469/469 [==============================] - 37s 78ms/step - loss: 0.0029 - accuracy: 0.9962\n",
            "Epoch 25/50\n",
            "469/469 [==============================] - 37s 78ms/step - loss: 0.0028 - accuracy: 0.9961\n",
            "Epoch 26/50\n",
            "469/469 [==============================] - 37s 78ms/step - loss: 0.0031 - accuracy: 0.9959\n",
            "Epoch 27/50\n",
            "469/469 [==============================] - 37s 78ms/step - loss: 0.0033 - accuracy: 0.9955\n",
            "Epoch 28/50\n",
            "469/469 [==============================] - 40s 85ms/step - loss: 0.0032 - accuracy: 0.9952\n",
            "Epoch 29/50\n",
            "469/469 [==============================] - 43s 92ms/step - loss: 0.0029 - accuracy: 0.9959\n",
            "Epoch 30/50\n",
            "469/469 [==============================] - 43s 91ms/step - loss: 0.0028 - accuracy: 0.9962\n",
            "Epoch 31/50\n",
            "469/469 [==============================] - 44s 93ms/step - loss: 0.0029 - accuracy: 0.9959\n",
            "Epoch 32/50\n",
            "469/469 [==============================] - 44s 93ms/step - loss: 0.0035 - accuracy: 0.9949\n",
            "Epoch 33/50\n",
            "469/469 [==============================] - 43s 93ms/step - loss: 0.0025 - accuracy: 0.9969\n",
            "Epoch 34/50\n",
            "469/469 [==============================] - 46s 97ms/step - loss: 0.0030 - accuracy: 0.9958\n",
            "Epoch 35/50\n",
            "469/469 [==============================] - 46s 98ms/step - loss: 0.0025 - accuracy: 0.9967\n",
            "Epoch 36/50\n",
            "469/469 [==============================] - 46s 98ms/step - loss: 0.0027 - accuracy: 0.9963\n",
            "Epoch 37/50\n",
            "469/469 [==============================] - 43s 92ms/step - loss: 0.0027 - accuracy: 0.9965\n",
            "Epoch 38/50\n",
            "469/469 [==============================] - 43s 92ms/step - loss: 0.0029 - accuracy: 0.9961\n",
            "Epoch 39/50\n",
            "469/469 [==============================] - 45s 95ms/step - loss: 0.0030 - accuracy: 0.9958\n",
            "Epoch 40/50\n",
            "469/469 [==============================] - 45s 97ms/step - loss: 0.0029 - accuracy: 0.9956\n",
            "Epoch 41/50\n",
            "469/469 [==============================] - 42s 89ms/step - loss: 0.0028 - accuracy: 0.9962\n",
            "Epoch 42/50\n",
            "469/469 [==============================] - 42s 89ms/step - loss: 0.0033 - accuracy: 0.9956\n",
            "Epoch 43/50\n",
            "469/469 [==============================] - 42s 90ms/step - loss: 0.0029 - accuracy: 0.9964\n",
            "Epoch 44/50\n",
            "469/469 [==============================] - 43s 93ms/step - loss: 0.0032 - accuracy: 0.9955\n",
            "Epoch 45/50\n",
            "469/469 [==============================] - 44s 95ms/step - loss: 0.0030 - accuracy: 0.9959\n",
            "Epoch 46/50\n",
            "469/469 [==============================] - 43s 92ms/step - loss: 0.0026 - accuracy: 0.9966\n",
            "Epoch 47/50\n",
            "469/469 [==============================] - 43s 91ms/step - loss: 0.0032 - accuracy: 0.9958\n",
            "Epoch 48/50\n",
            "469/469 [==============================] - 42s 90ms/step - loss: 0.0030 - accuracy: 0.9957\n",
            "Epoch 49/50\n",
            "469/469 [==============================] - 42s 89ms/step - loss: 0.0031 - accuracy: 0.9958\n",
            "Epoch 50/50\n",
            "469/469 [==============================] - 42s 89ms/step - loss: 0.0039 - accuracy: 0.9943\n"
          ]
        }
      ]
    },
    {
      "cell_type": "code",
      "metadata": {
        "colab": {
          "base_uri": "https://localhost:8080/"
        },
        "id": "k99PlePBmLEt",
        "outputId": "e162f60e-480e-4a02-d0c7-b44332930a38"
      },
      "source": [
        "cnn.save(\"mycnn.h5\")\n",
        "cnn.evaluate(x_test,y_test_onehot)"
      ],
      "execution_count": 29,
      "outputs": [
        {
          "output_type": "stream",
          "name": "stderr",
          "text": [
            "/usr/local/lib/python3.7/dist-packages/keras/utils/generic_utils.py:497: CustomMaskWarning: Custom mask layers require a config and must override get_config. When loading, the custom mask layer must be passed to the custom_objects argument.\n",
            "  category=CustomMaskWarning)\n"
          ]
        },
        {
          "output_type": "stream",
          "name": "stdout",
          "text": [
            "Evaluate on test data\n",
            "313/313 [==============================] - 3s 9ms/step - loss: 0.0077 - accuracy: 0.9901\n",
            "accurac_score : 0.9901000261306763\n"
          ]
        }
      ]
    }
  ]
}