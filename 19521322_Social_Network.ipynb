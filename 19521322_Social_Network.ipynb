{
  "nbformat": 4,
  "nbformat_minor": 0,
  "metadata": {
    "colab": {
      "name": "19521322_Social_Network.ipynb",
      "provenance": [],
      "collapsed_sections": []
    },
    "kernelspec": {
      "name": "python3",
      "display_name": "Python 3"
    },
    "language_info": {
      "name": "python"
    }
  },
  "cells": [
    {
      "cell_type": "markdown",
      "metadata": {
        "id": "3UNJKkmSFLwE"
      },
      "source": [
        "### Tên : Huỳnh Ngọc Công Danh\n",
        "### MSSV : 19521322"
      ]
    },
    {
      "cell_type": "code",
      "metadata": {
        "colab": {
          "base_uri": "https://localhost:8080/",
          "height": 80
        },
        "id": "xdJEBOIfFETv",
        "outputId": "9449c768-cd79-4633-f8e5-dc4d14a8a6fa"
      },
      "source": [
        "import pandas as pd\n",
        "from sklearn.preprocessing import StandardScaler\n",
        "from sklearn.preprocessing import MinMaxScaler\n",
        "import numpy as np\n",
        "df = pd.read_csv(\"/content/Social_Network_Ads.csv\")\n",
        "df.head(1)"
      ],
      "execution_count": 94,
      "outputs": [
        {
          "output_type": "execute_result",
          "data": {
            "text/html": [
              "<div>\n",
              "<style scoped>\n",
              "    .dataframe tbody tr th:only-of-type {\n",
              "        vertical-align: middle;\n",
              "    }\n",
              "\n",
              "    .dataframe tbody tr th {\n",
              "        vertical-align: top;\n",
              "    }\n",
              "\n",
              "    .dataframe thead th {\n",
              "        text-align: right;\n",
              "    }\n",
              "</style>\n",
              "<table border=\"1\" class=\"dataframe\">\n",
              "  <thead>\n",
              "    <tr style=\"text-align: right;\">\n",
              "      <th></th>\n",
              "      <th>Age</th>\n",
              "      <th>EstimatedSalary</th>\n",
              "      <th>Purchased</th>\n",
              "    </tr>\n",
              "  </thead>\n",
              "  <tbody>\n",
              "    <tr>\n",
              "      <th>0</th>\n",
              "      <td>19</td>\n",
              "      <td>19000</td>\n",
              "      <td>0</td>\n",
              "    </tr>\n",
              "  </tbody>\n",
              "</table>\n",
              "</div>"
            ],
            "text/plain": [
              "   Age  EstimatedSalary  Purchased\n",
              "0   19            19000          0"
            ]
          },
          "metadata": {},
          "execution_count": 94
        }
      ]
    },
    {
      "cell_type": "code",
      "metadata": {
        "colab": {
          "base_uri": "https://localhost:8080/",
          "height": 80
        },
        "id": "hIjeAO2zGVwC",
        "outputId": "507a1aad-5802-4bd7-bc9b-25455cb120d9"
      },
      "source": [
        "s_scaler = MinMaxScaler()\n",
        "df_scaled = pd.DataFrame(s_scaler.fit_transform(df),columns=df.columns)\n",
        "df_scaled.head(1)"
      ],
      "execution_count": 198,
      "outputs": [
        {
          "output_type": "execute_result",
          "data": {
            "text/html": [
              "<div>\n",
              "<style scoped>\n",
              "    .dataframe tbody tr th:only-of-type {\n",
              "        vertical-align: middle;\n",
              "    }\n",
              "\n",
              "    .dataframe tbody tr th {\n",
              "        vertical-align: top;\n",
              "    }\n",
              "\n",
              "    .dataframe thead th {\n",
              "        text-align: right;\n",
              "    }\n",
              "</style>\n",
              "<table border=\"1\" class=\"dataframe\">\n",
              "  <thead>\n",
              "    <tr style=\"text-align: right;\">\n",
              "      <th></th>\n",
              "      <th>Age</th>\n",
              "      <th>EstimatedSalary</th>\n",
              "      <th>Purchased</th>\n",
              "    </tr>\n",
              "  </thead>\n",
              "  <tbody>\n",
              "    <tr>\n",
              "      <th>0</th>\n",
              "      <td>0.02381</td>\n",
              "      <td>0.02963</td>\n",
              "      <td>0.0</td>\n",
              "    </tr>\n",
              "  </tbody>\n",
              "</table>\n",
              "</div>"
            ],
            "text/plain": [
              "       Age  EstimatedSalary  Purchased\n",
              "0  0.02381          0.02963        0.0"
            ]
          },
          "metadata": {},
          "execution_count": 198
        }
      ]
    },
    {
      "cell_type": "code",
      "metadata": {
        "id": "GqGZBpZUG969"
      },
      "source": [
        "from sklearn.model_selection import train_test_split\n",
        "from sklearn.metrics import accuracy_score\n",
        "from sklearn.preprocessing import LabelEncoder\n",
        "label = LabelEncoder()\n",
        "X = df_scaled.iloc[:,:-1]\n",
        "y = df_scaled.iloc[:,-1]"
      ],
      "execution_count": 199,
      "outputs": []
    },
    {
      "cell_type": "code",
      "metadata": {
        "id": "I7P57pJGPPWi"
      },
      "source": [
        "from sklearn.model_selection import KFold \n",
        "from sklearn.metrics import accuracy_score\n",
        "acc_score = []\n",
        "k = 5\n",
        "kf = KFold(n_splits=k,shuffle=True)\n",
        "def Score(model,X,y):\n",
        "  for train_index , test_index in kf.split(X):\n",
        "    X_train , X_test = X.iloc[train_index,:],X.iloc[test_index,:]\n",
        "    y_train , y_test = y.iloc[train_index] , y.iloc[test_index]\n",
        "    model.fit(X_train,y_train)\n",
        "    pred_values = model.predict(X_test)\n",
        "    acc = accuracy_score(pred_values , y_test)\n",
        "    acc_score.append(acc)\n",
        "  return sum(acc_score)/len(acc_score)"
      ],
      "execution_count": 200,
      "outputs": []
    },
    {
      "cell_type": "code",
      "metadata": {
        "id": "vaV8wIduKWM0"
      },
      "source": [
        "\n",
        "# Logistic\n",
        "from sklearn.linear_model import LogisticRegression\n",
        "model_logic = LogisticRegression()\n",
        "# SVM\n",
        "from sklearn import svm\n",
        "model_svm = svm.SVC(kernel='linear')\n",
        "# Decision Tree\n",
        "from sklearn import tree\n",
        "model_tree  = tree.DecisionTreeClassifier()\n",
        "# KNN\n",
        "from sklearn.neighbors import KNeighborsClassifier\n",
        "model_neigh = KNeighborsClassifier(n_neighbors=3)\n",
        "# Naive\n",
        "from sklearn.naive_bayes import GaussianNB\n",
        "model_naive = GaussianNB()\n",
        "# Random\n",
        "from sklearn.ensemble import RandomForestClassifier\n",
        "model_random = RandomForestClassifier(max_depth=2, random_state=0)"
      ],
      "execution_count": 201,
      "outputs": []
    },
    {
      "cell_type": "code",
      "metadata": {
        "colab": {
          "base_uri": "https://localhost:8080/",
          "height": 235
        },
        "id": "Gokh6_bvRClY",
        "outputId": "872dde8f-c5a6-44e8-8f4d-0dc7cfff8518"
      },
      "source": [
        "Logis_score = Score(model_logic,X,y)\n",
        "SVM_score = Score(model_svm,X,y)\n",
        "Decision_score = Score(model_tree,X,y)\n",
        "Naive_score = Score(model_naive,X,y)\n",
        "KNN_score = Score(model_neigh,X,y)\n",
        "Random_score = Score(model_random,X,y)\n",
        "result = {}\n",
        "result[\"Logistic Regression\"] = Logis_score\n",
        "result[\"SVM\"] = SVM_score\n",
        "result[\"Decisio Tree\"] = Decision_score\n",
        "result[\"Naive Bayes\"] = Naive_score\n",
        "result[\"KNN\"] = KNN_score\n",
        "result[\"Random Forest\"] = Random_score\n",
        "df_gird_result = pd.DataFrame.from_dict(result,orient=\"index\",columns=[\"Score\"])\n",
        "df_gird_result"
      ],
      "execution_count": 202,
      "outputs": [
        {
          "output_type": "execute_result",
          "data": {
            "text/html": [
              "<div>\n",
              "<style scoped>\n",
              "    .dataframe tbody tr th:only-of-type {\n",
              "        vertical-align: middle;\n",
              "    }\n",
              "\n",
              "    .dataframe tbody tr th {\n",
              "        vertical-align: top;\n",
              "    }\n",
              "\n",
              "    .dataframe thead th {\n",
              "        text-align: right;\n",
              "    }\n",
              "</style>\n",
              "<table border=\"1\" class=\"dataframe\">\n",
              "  <thead>\n",
              "    <tr style=\"text-align: right;\">\n",
              "      <th></th>\n",
              "      <th>Score</th>\n",
              "    </tr>\n",
              "  </thead>\n",
              "  <tbody>\n",
              "    <tr>\n",
              "      <th>Logistic Regression</th>\n",
              "      <td>0.815000</td>\n",
              "    </tr>\n",
              "    <tr>\n",
              "      <th>SVM</th>\n",
              "      <td>0.818750</td>\n",
              "    </tr>\n",
              "    <tr>\n",
              "      <th>Decisio Tree</th>\n",
              "      <td>0.837500</td>\n",
              "    </tr>\n",
              "    <tr>\n",
              "      <th>Naive Bayes</th>\n",
              "      <td>0.852500</td>\n",
              "    </tr>\n",
              "    <tr>\n",
              "      <th>KNN</th>\n",
              "      <td>0.861000</td>\n",
              "    </tr>\n",
              "    <tr>\n",
              "      <th>Random Forest</th>\n",
              "      <td>0.868333</td>\n",
              "    </tr>\n",
              "  </tbody>\n",
              "</table>\n",
              "</div>"
            ],
            "text/plain": [
              "                        Score\n",
              "Logistic Regression  0.815000\n",
              "SVM                  0.818750\n",
              "Decisio Tree         0.837500\n",
              "Naive Bayes          0.852500\n",
              "KNN                  0.861000\n",
              "Random Forest        0.868333"
            ]
          },
          "metadata": {},
          "execution_count": 202
        }
      ]
    }
  ]
}