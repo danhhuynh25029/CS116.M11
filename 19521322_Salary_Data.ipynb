{
 "cells": [
  {
   "cell_type": "markdown",
   "metadata": {
    "id": "jx7QRDA5JPbq"
   },
   "source": [
    "# Tên : Huỳnh Ngọc Công Danh\n",
    "# MSSV : 19521322"
   ]
  },
  {
   "cell_type": "code",
   "execution_count": 2,
   "metadata": {
    "colab": {
     "base_uri": "https://localhost:8080/",
     "height": 80
    },
    "id": "HXXz_u7TJV49",
    "outputId": "a9eaf9ee-dc78-46e8-9093-51118db87296"
   },
   "outputs": [
    {
     "data": {
      "text/html": [
       "<div>\n",
       "<style scoped>\n",
       "    .dataframe tbody tr th:only-of-type {\n",
       "        vertical-align: middle;\n",
       "    }\n",
       "\n",
       "    .dataframe tbody tr th {\n",
       "        vertical-align: top;\n",
       "    }\n",
       "\n",
       "    .dataframe thead th {\n",
       "        text-align: right;\n",
       "    }\n",
       "</style>\n",
       "<table border=\"1\" class=\"dataframe\">\n",
       "  <thead>\n",
       "    <tr style=\"text-align: right;\">\n",
       "      <th></th>\n",
       "      <th>YearsExperience</th>\n",
       "      <th>Salary</th>\n",
       "    </tr>\n",
       "  </thead>\n",
       "  <tbody>\n",
       "    <tr>\n",
       "      <th>0</th>\n",
       "      <td>1.1</td>\n",
       "      <td>39343.0</td>\n",
       "    </tr>\n",
       "  </tbody>\n",
       "</table>\n",
       "</div>"
      ],
      "text/plain": [
       "   YearsExperience   Salary\n",
       "0              1.1  39343.0"
      ]
     },
     "execution_count": 2,
     "metadata": {},
     "output_type": "execute_result"
    }
   ],
   "source": [
    "import pandas as pd\n",
    "import numpy as np\n",
    "from sklearn.preprocessing import StandardScaler\n",
    "from sklearn.linear_model import LinearRegression\n",
    "# from sklearn.preprocessing import MinMaxScaler\n",
    "\n",
    "df = pd.read_csv(\"Salary_Data.csv\")\n",
    "df.head(1)"
   ]
  },
  {
   "cell_type": "code",
   "execution_count": 12,
   "metadata": {
    "colab": {
     "base_uri": "https://localhost:8080/",
     "height": 80
    },
    "id": "34C3fLoZbyQq",
    "outputId": "8b59947d-117c-479a-cdc9-5d5e347d9e6e"
   },
   "outputs": [
    {
     "data": {
      "text/html": [
       "<div>\n",
       "<style scoped>\n",
       "    .dataframe tbody tr th:only-of-type {\n",
       "        vertical-align: middle;\n",
       "    }\n",
       "\n",
       "    .dataframe tbody tr th {\n",
       "        vertical-align: top;\n",
       "    }\n",
       "\n",
       "    .dataframe thead th {\n",
       "        text-align: right;\n",
       "    }\n",
       "</style>\n",
       "<table border=\"1\" class=\"dataframe\">\n",
       "  <thead>\n",
       "    <tr style=\"text-align: right;\">\n",
       "      <th></th>\n",
       "      <th>Salary</th>\n",
       "    </tr>\n",
       "  </thead>\n",
       "  <tbody>\n",
       "    <tr>\n",
       "      <th>0</th>\n",
       "      <td>39343.0</td>\n",
       "    </tr>\n",
       "  </tbody>\n",
       "</table>\n",
       "</div>"
      ],
      "text/plain": [
       "    Salary\n",
       "0  39343.0"
      ]
     },
     "execution_count": 12,
     "metadata": {},
     "output_type": "execute_result"
    }
   ],
   "source": [
    "scale = StandardScaler()\n",
    "X = df.iloc[:,:-1]\n",
    "y = df.iloc[:,-1]\n",
    "X_scaled = pd.DataFrame(scale.fit_transform(X))\n",
    "X_scaled.head(1)\n",
    "y = pd.DataFrame(y)\n",
    "y.head(1)"
   ]
  },
  {
   "cell_type": "code",
   "execution_count": 13,
   "metadata": {
    "id": "t5kac_mBcQ82"
   },
   "outputs": [],
   "source": [
    "from sklearn.model_selection import KFold \n",
    "from sklearn.metrics import r2_score\n",
    "\n",
    "def Score(model,X,y):\n",
    "  acc_score = [] \n",
    "  k = 5\n",
    "  kf = KFold(n_splits=k,shuffle=True)\n",
    "  for train_index , test_index in kf.split(X):\n",
    "    X_train , X_test = X.iloc[train_index,:],X.iloc[test_index,:]\n",
    "    y_train , y_test = y.iloc[train_index] , y.iloc[test_index]\n",
    "    model.fit(X_train,y_train.values.ravel())\n",
    "    pred_values = model.predict(X_test)\n",
    "    acc = r2_score(pred_values , y_test)\n",
    "    acc_score.append(acc)\n",
    "  return sum(acc_score)/len(acc_score)\n",
    "  # Linear Regression"
   ]
  },
  {
   "cell_type": "markdown",
   "metadata": {},
   "source": [
    "### Classfication"
   ]
  },
  {
   "cell_type": "code",
   "execution_count": null,
   "metadata": {},
   "outputs": [],
   "source": [
    "\n",
    "# Logistic\n",
    "from sklearn.linear_model import LogisticRegression\n",
    "model_logic = LogisticRegression()\n",
    "# SVM\n",
    "from sklearn import svm\n",
    "model_svm = svm.SVC()\n",
    "# Decision Tree\n",
    "from sklearn import tree\n",
    "model_tree  = tree.DecisionTreeClassifier()\n",
    "# KNN\n",
    "from sklearn.neighbors import KNeighborsClassifier\n",
    "model_neigh = KNeighborsClassifier(n_neighbors=3)\n",
    "# Naive\n",
    "from sklearn.naive_bayes import GaussianNB\n",
    "model_naive = GaussianNB()\n",
    "# Random\n",
    "from sklearn.ensemble import RandomForestClassifier\n",
    "model_random = RandomForestClassifier(max_depth=2, random_state=0)\n",
    "\n",
    "Logis_score = Score(model_logic,X_scaled,y)\n",
    "SVM_score = Score(model_svm,X_scaled,y)\n",
    "Decision_score = Score(model_tree,X_scaled,y)\n",
    "Naive_score = Score(model_naive,X_scaled,y)\n",
    "KNN_score = Score(model_neigh,X_scaled,y)\n",
    "Random_score = Score(model_random,X_scaled,y)\n",
    "model_score = [\n",
    "    (\"Logis\",Logis_score),\n",
    "    (\"SVM\",SVM_score),\n",
    "    (\"Decision\",Decision_score),\n",
    "    (\"Naive\",Naive_score),\n",
    "    (\"KNN\",KNN_score),\n",
    "    (\"Random\",Random_score)\n",
    "]\n",
    "score = pd.DataFrame(model_score,columns=[\"model\",\"score\"])\n",
    "score"
   ]
  }
 ],
 "metadata": {
  "colab": {
   "collapsed_sections": [],
   "name": "19521322_LinearRegression.ipynb",
   "provenance": []
  },
  "kernelspec": {
   "display_name": "Python 3",
   "language": "python",
   "name": "python3"
  },
  "language_info": {
   "codemirror_mode": {
    "name": "ipython",
    "version": 3
   },
   "file_extension": ".py",
   "mimetype": "text/x-python",
   "name": "python",
   "nbconvert_exporter": "python",
   "pygments_lexer": "ipython3",
   "version": "3.8.8"
  }
 },
 "nbformat": 4,
 "nbformat_minor": 4
}
